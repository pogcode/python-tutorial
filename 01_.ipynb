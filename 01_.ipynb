{
 "cells": [
  {
   "cell_type": "markdown",
   "id": "rural-chinese",
   "metadata": {},
   "source": [
    "### 01_序列"
   ]
  },
  {
   "cell_type": "code",
   "execution_count": 10,
   "id": "expensive-commerce",
   "metadata": {},
   "outputs": [
    {
     "data": {
      "text/plain": [
       "'h'"
      ]
     },
     "execution_count": 10,
     "metadata": {},
     "output_type": "execute_result"
    }
   ],
   "source": [
    "greeting = 'hello'\n",
    "greeting[0]"
   ]
  },
  {
   "cell_type": "code",
   "execution_count": 11,
   "id": "institutional-guard",
   "metadata": {},
   "outputs": [
    {
     "data": {
      "text/plain": [
       "'o'"
      ]
     },
     "execution_count": 11,
     "metadata": {},
     "output_type": "execute_result"
    }
   ],
   "source": [
    "greeting[-1] # -1对应最后一个元素"
   ]
  },
  {
   "cell_type": "code",
   "execution_count": 12,
   "id": "fuzzy-extraction",
   "metadata": {},
   "outputs": [
    {
     "data": {
      "text/plain": [
       "'h'"
      ]
     },
     "execution_count": 12,
     "metadata": {},
     "output_type": "execute_result"
    }
   ],
   "source": [
    "'hello'[0] # 对于字符串常量，可直接对其执行索引操作"
   ]
  },
  {
   "cell_type": "markdown",
   "id": "major-listing",
   "metadata": {},
   "source": [
    "索引操作示例"
   ]
  },
  {
   "cell_type": "code",
   "execution_count": null,
   "id": "chief-custom",
   "metadata": {},
   "outputs": [],
   "source": [
    "# 将以数指定的年、月、日的日期打印出来\n",
    "\n",
    "months = [\n",
    "    'January',\n",
    "    'February',\n",
    "    'March',\n",
    "    'April',\n",
    "    'May',\n",
    "    'June',\n",
    "    'July',\n",
    "    'August',\n",
    "    'September',\n",
    "    'October',\n",
    "    'November',\n",
    "    'December'\n",
    "]\n",
    "\n",
    "endings = ['st', 'nd', 'rd'] + 17 * ['th'] \\\n"
   ]
  }
 ],
 "metadata": {
  "kernelspec": {
   "display_name": "Python 3",
   "language": "python",
   "name": "python3"
  },
  "language_info": {
   "codemirror_mode": {
    "name": "ipython",
    "version": 3
   },
   "file_extension": ".py",
   "mimetype": "text/x-python",
   "name": "python",
   "nbconvert_exporter": "python",
   "pygments_lexer": "ipython3",
   "version": "3.7.10"
  }
 },
 "nbformat": 4,
 "nbformat_minor": 5
}
