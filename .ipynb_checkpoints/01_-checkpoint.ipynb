{
 "cells": [
  {
   "cell_type": "markdown",
   "id": "rural-chinese",
   "metadata": {},
   "source": [
    "### 01_序列"
   ]
  },
  {
   "cell_type": "code",
   "execution_count": 10,
   "id": "expensive-commerce",
   "metadata": {},
   "outputs": [
    {
     "data": {
      "text/plain": [
       "'h'"
      ]
     },
     "execution_count": 10,
     "metadata": {},
     "output_type": "execute_result"
    }
   ],
   "source": [
    "greeting = 'hello'\n",
    "greeting[0]"
   ]
  },
  {
   "cell_type": "code",
   "execution_count": 11,
   "id": "institutional-guard",
   "metadata": {},
   "outputs": [
    {
     "data": {
      "text/plain": [
       "'o'"
      ]
     },
     "execution_count": 11,
     "metadata": {},
     "output_type": "execute_result"
    }
   ],
   "source": [
    "greeting[-1] # -1对应最后一个元素"
   ]
  },
  {
   "cell_type": "code",
   "execution_count": 12,
   "id": "fuzzy-extraction",
   "metadata": {},
   "outputs": [
    {
     "data": {
      "text/plain": [
       "'h'"
      ]
     },
     "execution_count": 12,
     "metadata": {},
     "output_type": "execute_result"
    }
   ],
   "source": [
    "'hello'[0] # 对于字符串常量，可直接对其执行索引操作"
   ]
  },
  {
   "cell_type": "markdown",
   "id": "major-listing",
   "metadata": {},
   "source": [
    "索引操作示例"
   ]
  },
  {
   "cell_type": "code",
   "execution_count": 2,
   "id": "chief-custom",
   "metadata": {},
   "outputs": [
    {
     "name": "stdout",
     "output_type": "stream",
     "text": [
      "Year:2021\n",
      "Month(1-12):3\n",
      "Day(1-31):20\n",
      "March 20th,2021\n"
     ]
    }
   ],
   "source": [
    "# 将以数指定的年、月、日的日期打印出来\n",
    "\n",
    "months = [\n",
    "    'January',\n",
    "    'February',\n",
    "    'March',\n",
    "    'April',\n",
    "    'May',\n",
    "    'June',\n",
    "    'July',\n",
    "    'August',\n",
    "    'September',\n",
    "    'October',\n",
    "    'November',\n",
    "    'December'\n",
    "]\n",
    "\n",
    "endings = ['st', 'nd', 'rd'] + 17 * ['th'] + ['st', 'nd', 'rd'] + 7 * ['th'] + ['st']\n",
    "\n",
    "year = input('Year:')\n",
    "\n",
    "month = input('Month(1-12):')\n",
    "\n",
    "day = input('Day(1-31):')\n",
    "\n",
    "month_number = int(month)\n",
    "\n",
    "day_number = int(day)\n",
    "\n",
    "month_name = months[month_number - 1]\n",
    "\n",
    "ordinal = day + endings[day_number - 1]\n",
    "\n",
    "print(month_name + ' ' + ordinal + ',' + year)"
   ]
  },
  {
   "cell_type": "code",
   "execution_count": 2,
   "id": "eastern-bibliography",
   "metadata": {},
   "outputs": [],
   "source": [
    "numbers = [1, 2, 3, 4, 5, 6, 7, 8, 9, 10]"
   ]
  },
  {
   "cell_type": "code",
   "execution_count": 3,
   "id": "likely-infrared",
   "metadata": {},
   "outputs": [
    {
     "data": {
      "text/plain": [
       "[8, 9, 10]"
      ]
     },
     "execution_count": 3,
     "metadata": {},
     "output_type": "execute_result"
    }
   ],
   "source": [
    "numbers[-3:]  # 如果切片结束于序列末尾，可省略第二个索引"
   ]
  },
  {
   "cell_type": "code",
   "execution_count": 4,
   "id": "geographic-platform",
   "metadata": {},
   "outputs": [
    {
     "data": {
      "text/plain": [
       "[1, 2, 3]"
      ]
     },
     "execution_count": 4,
     "metadata": {},
     "output_type": "execute_result"
    }
   ],
   "source": [
    "numbers[:3]  # 如果切片始于序列开头，可省略第一个索引"
   ]
  },
  {
   "cell_type": "code",
   "execution_count": 6,
   "id": "neutral-creek",
   "metadata": {},
   "outputs": [
    {
     "name": "stdout",
     "output_type": "stream",
     "text": [
      "Sentence:He's a very naughty boy!\n",
      "\n",
      "                         +----------------------------+\n",
      "                         |                          |\n",
      "                         | He's a very naughty boy! |\n",
      "                         |                          |\n",
      "                         +----------------------------+\n",
      "\n"
     ]
    }
   ],
   "source": [
    "sentence = input('Sentence:')\n",
    "\n",
    "screen_width = 80\n",
    "\n",
    "text_width = len(sentence)\n",
    "\n",
    "box_width = text_width + 6\n",
    "\n",
    "left_margin = (screen_width - box_width) // 2\n",
    "\n",
    "print()\n",
    "print(' ' * left_margin + '+' + '-' * (box_width - 2) + '+')\n",
    "print(' ' * left_margin + '| ' + ' ' * text_width + ' |')\n",
    "print(' ' * left_margin + '| ' + sentence + ' |')\n",
    "print(' ' * left_margin + '| ' + ' ' * text_width + ' |')\n",
    "print(' ' * left_margin + '+' + '-' * (box_width - 2) + '+')\n",
    "print()"
   ]
  },
  {
   "cell_type": "code",
   "execution_count": null,
   "id": "celtic-alcohol",
   "metadata": {},
   "outputs": [],
   "source": [
    "# 检查用户名和PIN码\n",
    "\n",
    "database = [\n",
    "    ['albert', '1234'],\n",
    "    ['dilbert', '4242'],\n",
    "    ['smith', '7524'].\n",
    "    ['jones', '9843']\n",
    "]\n",
    "\n",
    "username = input('User name: ')\n",
    "pin = input('PIN code: ')\n",
    "\n",
    "if [username, pin] in database:\n",
    "    print('Access granted')"
   ]
  }
 ],
 "metadata": {
  "kernelspec": {
   "display_name": "Python 3",
   "language": "python",
   "name": "python3"
  },
  "language_info": {
   "codemirror_mode": {
    "name": "ipython",
    "version": 3
   },
   "file_extension": ".py",
   "mimetype": "text/x-python",
   "name": "python",
   "nbconvert_exporter": "python",
   "pygments_lexer": "ipython3",
   "version": "3.7.10"
  }
 },
 "nbformat": 4,
 "nbformat_minor": 5
}
